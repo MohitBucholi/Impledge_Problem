{
 "cells": [
  {
   "cell_type": "markdown",
   "metadata": {},
   "source": [
    "<h1>Impledge<h1>"
   ]
  },
  {
   "cell_type": "markdown",
   "metadata": {},
   "source": [
    "***Problem solution (process the 2nd file)***"
   ]
  },
  {
   "cell_type": "code",
   "execution_count": 4,
   "metadata": {},
   "outputs": [
    {
     "name": "stdout",
     "output_type": "stream",
     "text": [
      "1. Longest Compound Word: ethylenediaminetetraacetates\n",
      "2. Second Longest Compound Word: electroencephalographically\n",
      "--- 0.18508529663085938 seconds ---\n"
     ]
    }
   ],
   "source": [
    "def fun1(indx):                        # Create a function to find the 1st Longest Compound Word & 2nd Longest Compound Word:\n",
    "    global ans\n",
    "    global i\n",
    "    y = i\n",
    "    last_indx = 0                       # initialize a variable and assign 0\n",
    "\n",
    "    for j in range(indx +1,l):\n",
    "\n",
    "        if x[j] in y:\n",
    "            y=y.replace(x[j],\"\")\n",
    "\n",
    "            if y == \"\":\n",
    "                if ans==0:\n",
    "                    print(\"1. Longest Compound Word: \",end=\"\" )\n",
    "                else:\n",
    "                    print(\"2. Second Longest Compound Word: \",end=\"\")\n",
    "                print(i)\n",
    "                ans = ans+1\n",
    "                break\n",
    "\n",
    "            elif last_indx <= 0:\n",
    "                last_indx = j\n",
    "                \n",
    "    else:\n",
    "        if last_indx >0:\n",
    "            fun1(last_indx)\n",
    "\n",
    "#import time to calculate excuation time of a code\n",
    "import time\n",
    "start_time =  time.time()\n",
    "\n",
    "f =open(\"D:\\HP\\downloads\\Input_02.txt\",'r')                 # process the file & take input as in list            \n",
    "x = list(f.read().split())\n",
    "f.close()\n",
    "\n",
    "x.sort(key=len,reverse= True)                              # reverse sort the list with the length of elements\n",
    "l = len(x)                                                 # l is length of list\n",
    "ans = 0                                                    # initialize a variable 'ans' and assign 0\n",
    "y =\" \"                                                     # initialize a blank string\n",
    "\n",
    "# loop to assign the element to function one by one\n",
    "for i in x:\n",
    "    indx = x.index(i)                                      # indx is the index of 'i' element in list 'x'\n",
    "    y = i\n",
    "    fun1(indx)                                             # call the function\n",
    "    if ans == 2:\n",
    "        break\n",
    "\n",
    "# Execution time & Time Taken to proccess the imput file\n",
    "\n",
    "print(\"--- %s seconds ---\" % (time.time() - start_time))"
   ]
  }
 ],
 "metadata": {
  "interpreter": {
   "hash": "5c8a7a553ce91d77c6733e151ce4889e0ba9b48b7babcd392ee923e8343d96a9"
  },
  "kernelspec": {
   "display_name": "Python 3.9.5 64-bit",
   "language": "python",
   "name": "python3"
  },
  "language_info": {
   "codemirror_mode": {
    "name": "ipython",
    "version": 3
   },
   "file_extension": ".py",
   "mimetype": "text/x-python",
   "name": "python",
   "nbconvert_exporter": "python",
   "pygments_lexer": "ipython3",
   "version": "3.9.5"
  },
  "orig_nbformat": 4
 },
 "nbformat": 4,
 "nbformat_minor": 2
}
